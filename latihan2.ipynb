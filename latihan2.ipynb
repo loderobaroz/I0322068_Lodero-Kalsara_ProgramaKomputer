{
 "cells": [
  {
   "cell_type": "code",
   "execution_count": 4,
   "metadata": {},
   "outputs": [
    {
     "name": "stdout",
     "output_type": "stream",
     "text": [
      "nilai 75 C ke F adalah 167.0\n"
     ]
    }
   ],
   "source": [
    "celcius = int(input(\"masukkan nilai Celcius: \"))\n",
    "\n",
    "fahrenheit = (9/5) * celcius + 32\n",
    "print(f\"nilai {celcius} C ke F adalah {fahrenheit}\")"
   ]
  },
  {
   "cell_type": "code",
   "execution_count": 8,
   "metadata": {},
   "outputs": [
    {
     "name": "stdout",
     "output_type": "stream",
     "text": [
      "nilai 30.5 R ke F adalah 100.625\n"
     ]
    }
   ],
   "source": [
    "reamur = float(input(\"masukkan nilai reamur\"))\n",
    "\n",
    "fahrenheit = (9/4) * reamur + 32\n",
    "print(f\"nilai {reamur} R ke F adalah {fahrenheit}\")"
   ]
  },
  {
   "cell_type": "code",
   "execution_count": 12,
   "metadata": {},
   "outputs": [
    {
     "ename": "SyntaxError",
     "evalue": "invalid syntax (1707396075.py, line 1)",
     "output_type": "error",
     "traceback": [
      "\u001b[1;36m  Cell \u001b[1;32mIn[12], line 1\u001b[1;36m\u001b[0m\n\u001b[1;33m    float = input(\"masukkan nilai IDR\") {\u001b[0m\n\u001b[1;37m                                        ^\u001b[0m\n\u001b[1;31mSyntaxError\u001b[0m\u001b[1;31m:\u001b[0m invalid syntax\n"
     ]
    }
   ],
   "source": [
    "float = input(\"masukkan nilai IDR\") {\n",
    "    'IDR' : 1\n",
    "    'USD' : 0.000071\n",
    "    'SGD' : 0.000098\n",
    "    'EUR' : 0.000061\n",
    "    'JPY' : 0.0079\n",
    "}\n",
    "print(float{'IDR'})\n",
    "print(float{'USD'})\n",
    "print(float{'SGD'})\n",
    "print(float{'EUR'})\n",
    "print(float{'JPY'})\n"
   ]
  },
  {
   "cell_type": "code",
   "execution_count": 32,
   "metadata": {},
   "outputs": [
    {
     "name": "stdout",
     "output_type": "stream",
     "text": [
      "7000\n"
     ]
    }
   ],
   "source": [
    "mata_uang = {\n",
    "    'IDR' : 1,\n",
    "    'USD' : 0.000071,\n",
    "}\n",
    "uang = input(\"masukkan mata uang yang ingin dikonversi(IDR, USD)\")\n",
    "nilai = int(input(\"masukkan nilai uang\"))\n",
    "print(mata_uang[uang]*nilai)"
   ]
  },
  {
   "cell_type": "code",
   "execution_count": 37,
   "metadata": {},
   "outputs": [
    {
     "ename": "KeyError",
     "evalue": "'aslab'",
     "output_type": "error",
     "traceback": [
      "\u001b[1;31m---------------------------------------------------------------------------\u001b[0m",
      "\u001b[1;31mKeyError\u001b[0m                                  Traceback (most recent call last)",
      "Cell \u001b[1;32mIn[37], line 16\u001b[0m\n\u001b[0;32m      1\u001b[0m classroom \u001b[39m=\u001b[39m {\n\u001b[0;32m      2\u001b[0m     \u001b[39m\"\u001b[39m\u001b[39maslab1\u001b[39m\u001b[39m\"\u001b[39m: {\n\u001b[0;32m      3\u001b[0m      \u001b[39m\"\u001b[39m\u001b[39mname\u001b[39m\u001b[39m\"\u001b[39m : \u001b[39m\"\u001b[39m\u001b[39msafri\u001b[39m\u001b[39m\"\u001b[39m,\n\u001b[1;32m   (...)\u001b[0m\n\u001b[0;32m     13\u001b[0m }\n\u001b[0;32m     14\u001b[0m }\n\u001b[1;32m---> 16\u001b[0m \u001b[39mprint\u001b[39m(classroom[\u001b[39m'\u001b[39;49m\u001b[39maslab\u001b[39;49m\u001b[39m'\u001b[39;49m])\n\u001b[0;32m     17\u001b[0m \u001b[39mprint\u001b[39m(classroom[\u001b[39m'\u001b[39m\u001b[39mage\u001b[39m\u001b[39m'\u001b[39m])\n",
      "\u001b[1;31mKeyError\u001b[0m: 'aslab'"
     ]
    }
   ],
   "source": [
    "classroom = {\n",
    "    \"aslab\" :{\n",
    "    \"aslab1\" : {\n",
    "     \"nama\" : \"dimas\",\n",
    "     \"umur\"  : 19,\n",
    "    },\n",
    "    \"aslab2\": {\n",
    "     \"name\" : \"fiki\",\n",
    "     \"age\"  : 18,\n",
    "    },\n",
    "    \"aslab3\":{ \n",
    "     \"name\" : \"deo\",\n",
    "     \"age\"  : 20,\n",
    "}\n",
    "}\n",
    "\n",
    "print(classroom['nama'])\n",
    "print(classroom['age'])"
   ]
  },
  {
   "cell_type": "code",
   "execution_count": 65,
   "metadata": {},
   "outputs": [
    {
     "name": "stdout",
     "output_type": "stream",
     "text": [
      "Ikan bakar\n",
      "an bakar gosong item pahit bange\n",
      "gsn tmphtbne\n"
     ]
    }
   ],
   "source": [
    "string = \"Ikan bakar gosong item pahit banget\"\n",
    "print(string[0:10])\n",
    "print(string[2:-1])\n",
    "print(string[11:35:2])"
   ]
  }
 ],
 "metadata": {
  "kernelspec": {
   "display_name": "Python 3",
   "language": "python",
   "name": "python3"
  },
  "language_info": {
   "codemirror_mode": {
    "name": "ipython",
    "version": 3
   },
   "file_extension": ".py",
   "mimetype": "text/x-python",
   "name": "python",
   "nbconvert_exporter": "python",
   "pygments_lexer": "ipython3",
   "version": "3.11.2"
  },
  "orig_nbformat": 4
 },
 "nbformat": 4,
 "nbformat_minor": 2
}
