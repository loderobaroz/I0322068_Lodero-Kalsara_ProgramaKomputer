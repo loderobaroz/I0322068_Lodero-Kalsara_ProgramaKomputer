{
 "cells": [
  {
   "attachments": {},
   "cell_type": "markdown",
   "metadata": {},
   "source": [
    "1. Diberikan List sebagai berikut!"
   ]
  },
  {
   "cell_type": "code",
   "execution_count": null,
   "metadata": {},
   "outputs": [],
   "source": [
    "list1 = ['a','b','c']\n",
    "list2 = ['c','d','e']"
   ]
  },
  {
   "attachments": {},
   "cell_type": "markdown",
   "metadata": {},
   "source": [
    "Buatlah program pengulangan untuk menampilkan elemen dalam kedua list tersebut yang sama! (Contoh Output \"Nilai yang sama adalah 'C'\")"
   ]
  },
  {
   "cell_type": "code",
   "execution_count": 6,
   "metadata": {},
   "outputs": [
    {
     "name": "stdout",
     "output_type": "stream",
     "text": [
      "Nilai yang sama adalah c\n"
     ]
    }
   ],
   "source": [
    "# Kerjakan nomor 1 di sini\n",
    "\n",
    "list1 = ['a','b','c']\n",
    "list2 = ['c','d','e']\n",
    "\n",
    "for y in list1:\n",
    "    if y in list2:\n",
    "        print(f\"Nilai yang sama adalah\", y)"
   ]
  },
  {
   "attachments": {},
   "cell_type": "markdown",
   "metadata": {},
   "source": [
    "2. Buatlah sebuah list yang berisi daftar mata kuliah di Teknik Industri UNS (minimal 10 matkul). Kemudian buat program pencarian menggunakan pengulangan. Apabila nama matkul yang user inputkan sudah sesuai dengan isi list maka program akan berhenti dan menampilkan output \"Mata Kuliah (matkul yang diinput user) adalah mata kuliah di Teknik Industri UNS\"."
   ]
  },
  {
   "cell_type": "code",
   "execution_count": 13,
   "metadata": {},
   "outputs": [
    {
     "name": "stdout",
     "output_type": "stream",
     "text": [
      "psikologi industri\n",
      "biologi\n",
      "fisika dasar\n",
      "programa komputer\n",
      "fisika Dasar\n",
      "pengantar teknik industri\n",
      "kalkulus\n",
      "mekanika teknik\n",
      "analisis dan estimasi biaya\n",
      "pengantar rekayasa dan desain\n",
      "menggambar teknik\n",
      "kimia dasar\n",
      "pengantar ilmu ekonomi\n",
      "Mata Kuliah biologi adalah mata kuliah di Teknik Industri UNS\n"
     ]
    }
   ],
   "source": [
    "# Kerjakan nomor 2 di sini\n",
    "\n",
    "matkul_industri = [\"psikologi industri\", \"biologi\", \"fisika dasar\", \"programa komputer\", \"fisika Dasar\", \"pengantar teknik industri\", \n",
    "        \"kalkulus\", \"mekanika teknik\", \"analisis dan estimasi biaya\", \"pengantar rekayasa dan desain\", \n",
    "        \"menggambar teknik\", \"kimia dasar\", \"pengantar ilmu ekonomi\"]\n",
    "for mata_kuliah in matkul_industri:\n",
    "    print(mata_kuliah)\n",
    "\n",
    "matakuliah = str(input(\"masukkan mata kuliah: \"))\n",
    "matakuliah = matakuliah.lower()\n",
    "\n",
    "for i in range(len(matkul_industri)):\n",
    "    if matkul_industri[i] == matakuliah:\n",
    "        print(f\"Mata Kuliah {matakuliah} adalah mata kuliah di Teknik Industri UNS\")\n",
    "        break\n",
    "else:\n",
    "    print(f\"Mata Kuliah {matakuliah} bukan mata kuliah di Teknik Industri UNS\")"
   ]
  },
  {
   "attachments": {},
   "cell_type": "markdown",
   "metadata": {},
   "source": [
    "3. Buatlah program untuk menampilkan faktorial dari suatu bilangan dimana bilangan tersebut didapat melalui input user!"
   ]
  },
  {
   "cell_type": "code",
   "execution_count": 19,
   "metadata": {},
   "outputs": [
    {
     "name": "stdout",
     "output_type": "stream",
     "text": [
      "nilai faktorial dari 5 adalah 120\n"
     ]
    }
   ],
   "source": [
    "# Kerjakan nomor 3 di sini\n",
    "\n",
    "bilangan = int(input(\"masukkan bilangan: \"))\n",
    "nilai = 1\n",
    "\n",
    "for x in range (1, bilangan+1):\n",
    "    nilai = nilai*x\n",
    "print(f\"nilai faktorial dari {bilangan} adalah {nilai}\")"
   ]
  }
 ],
 "metadata": {
  "kernelspec": {
   "display_name": "Python 3",
   "language": "python",
   "name": "python3"
  },
  "language_info": {
   "codemirror_mode": {
    "name": "ipython",
    "version": 3
   },
   "file_extension": ".py",
   "mimetype": "text/x-python",
   "name": "python",
   "nbconvert_exporter": "python",
   "pygments_lexer": "ipython3",
   "version": "3.11.2"
  },
  "orig_nbformat": 4
 },
 "nbformat": 4,
 "nbformat_minor": 2
}
